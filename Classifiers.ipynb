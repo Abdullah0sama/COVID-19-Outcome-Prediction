{
 "cells": [
  {
   "cell_type": "code",
   "execution_count": 1,
   "id": "54d88525",
   "metadata": {},
   "outputs": [],
   "source": [
    "import numpy as np\n",
    "import pandas as pd\n",
    "import matplotlib.pyplot as plt\n",
    "from sklearn.linear_model import LogisticRegression\n",
    "from sklearn.metrics import confusion_matrix\n",
    "from sklearn.metrics import roc_curve\n",
    "from sklearn.metrics import roc_auc_score\n",
    "from sklearn.metrics import classification_report\n",
    "from sklearn.metrics import accuracy_score\n",
    "from sklearn.metrics import precision_recall_fscore_support as p_r_f1_scores\n",
    "from sklearn.neighbors import KNeighborsClassifier\n",
    "\n",
    "from sklearn.model_selection import GridSearchCV\n",
    "from sklearn.model_selection import cross_val_score\n",
    "from sklearn.model_selection import train_test_split\n",
    "from sklearn.model_selection import StratifiedKFold\n",
    "from sklearn.naive_bayes import GaussianNB\n",
    "\n",
    "import seaborn as sns\n",
    "\n",
    "import heapq\n",
    "from collections import Counter\n",
    "\n",
    "%matplotlib inline"
   ]
  },
  {
   "cell_type": "markdown",
   "id": "221830d4",
   "metadata": {},
   "source": [
    "Name: Abdullah Osama Sayed\n",
    "ID: 1802994"
   ]
  },
  {
   "cell_type": "markdown",
   "id": "2904e865",
   "metadata": {},
   "source": [
    "## Helpers"
   ]
  },
  {
   "cell_type": "code",
   "execution_count": 2,
   "id": "43ac42ec",
   "metadata": {},
   "outputs": [],
   "source": [
    "all_scores = pd.DataFrame(columns=[\"Classifier\", \"Precision\", \"Recall\", \"F-Score\", \"ROC_AUC\", \"Accuracy\"])\n",
    "y_predictions = dict()"
   ]
  },
  {
   "cell_type": "code",
   "execution_count": 3,
   "id": "845413f8",
   "metadata": {},
   "outputs": [],
   "source": [
    "def scores(y_true, y_pred, y_pred_prob):\n",
    "    prec, recall, f1, n = p_r_f1_scores(y_true, y_pred, average='binary')\n",
    "    roc_auc = roc_auc_score(y_true, y_pred_prob)\n",
    "    acc = accuracy_score(y_true, y_pred)\n",
    "    return [prec, recall, f1, roc_auc, acc]"
   ]
  },
  {
   "cell_type": "code",
   "execution_count": 4,
   "id": "4430bcf3",
   "metadata": {},
   "outputs": [],
   "source": [
    "def metrics(y_true, y_pred, y_pred_prob_posi): \n",
    "    print(\"\\nEvaluation Metrics\\n\")\n",
    "    \n",
    "    # Confusion Matrix where C[i][j] represents true value is in class i and predicted to be in class j\n",
    "    # C[1][1] true value is class 1 and predicted to be in class 1 \n",
    "    # That is C[1][1] is True Positive\n",
    "    # C[0][0] is True Negative\n",
    "    cm = confusion_matrix(y_true, y_pred)\n",
    "    cm_matrix = pd.DataFrame(data=cm, index=[\"Actual Negative: 0\", \"Actual Positive: 1\"], \n",
    "                             columns=[\"Predicted Negative: 0\", \"Predicted Postive: 1\"])\n",
    "\n",
    "    sns.heatmap(cm_matrix, annot=True, fmt='d')\n",
    "\n",
    "    print(classification_report(y_true, y_pred))\n",
    "    # TPR = TP / (TP + FN)\n",
    "    # FPR = FP / (FP + TN)\n",
    "    fpr, tpr, thres = roc_curve(y_true, y_pred_prob_posi)\n",
    "    plt.figure()\n",
    "    plt.plot(fpr, tpr, linewidth=\"2\")\n",
    "    plt.plot([0, 1], [0, 1], 'k--')\n",
    "    plt.xlabel(\"False positive rate\")\n",
    "    plt.ylabel(\"True positive rate\")\n",
    "    plt.show()\n",
    "    \n",
    "    auc = roc_auc_score(y_true, y_pred_prob_posi)\n",
    "    print(\"roc_auc: \", auc)"
   ]
  },
  {
   "cell_type": "markdown",
   "id": "63f21c92",
   "metadata": {},
   "source": [
    "## Importing Data"
   ]
  },
  {
   "cell_type": "code",
   "execution_count": 5,
   "id": "e6de4dcf",
   "metadata": {
    "scrolled": true
   },
   "outputs": [
    {
     "data": {
      "text/html": [
       "<div>\n",
       "<style scoped>\n",
       "    .dataframe tbody tr th:only-of-type {\n",
       "        vertical-align: middle;\n",
       "    }\n",
       "\n",
       "    .dataframe tbody tr th {\n",
       "        vertical-align: top;\n",
       "    }\n",
       "\n",
       "    .dataframe thead th {\n",
       "        text-align: right;\n",
       "    }\n",
       "</style>\n",
       "<table border=\"1\" class=\"dataframe\">\n",
       "  <thead>\n",
       "    <tr style=\"text-align: right;\">\n",
       "      <th></th>\n",
       "      <th>location</th>\n",
       "      <th>country</th>\n",
       "      <th>gender</th>\n",
       "      <th>age</th>\n",
       "      <th>vis_wuhan</th>\n",
       "      <th>from_wuhan</th>\n",
       "      <th>symptom1</th>\n",
       "      <th>symptom2</th>\n",
       "      <th>symptom3</th>\n",
       "      <th>symptom4</th>\n",
       "      <th>symptom5</th>\n",
       "      <th>symptom6</th>\n",
       "      <th>diff_sym_hos</th>\n",
       "      <th>result</th>\n",
       "    </tr>\n",
       "  </thead>\n",
       "  <tbody>\n",
       "    <tr>\n",
       "      <th>0</th>\n",
       "      <td>104</td>\n",
       "      <td>8</td>\n",
       "      <td>1</td>\n",
       "      <td>66.0</td>\n",
       "      <td>1</td>\n",
       "      <td>0</td>\n",
       "      <td>14</td>\n",
       "      <td>31</td>\n",
       "      <td>19</td>\n",
       "      <td>12</td>\n",
       "      <td>3</td>\n",
       "      <td>1</td>\n",
       "      <td>8</td>\n",
       "      <td>1</td>\n",
       "    </tr>\n",
       "    <tr>\n",
       "      <th>1</th>\n",
       "      <td>101</td>\n",
       "      <td>8</td>\n",
       "      <td>0</td>\n",
       "      <td>56.0</td>\n",
       "      <td>0</td>\n",
       "      <td>1</td>\n",
       "      <td>14</td>\n",
       "      <td>31</td>\n",
       "      <td>19</td>\n",
       "      <td>12</td>\n",
       "      <td>3</td>\n",
       "      <td>1</td>\n",
       "      <td>0</td>\n",
       "      <td>0</td>\n",
       "    </tr>\n",
       "    <tr>\n",
       "      <th>2</th>\n",
       "      <td>137</td>\n",
       "      <td>8</td>\n",
       "      <td>1</td>\n",
       "      <td>46.0</td>\n",
       "      <td>0</td>\n",
       "      <td>1</td>\n",
       "      <td>14</td>\n",
       "      <td>31</td>\n",
       "      <td>19</td>\n",
       "      <td>12</td>\n",
       "      <td>3</td>\n",
       "      <td>1</td>\n",
       "      <td>13</td>\n",
       "      <td>0</td>\n",
       "    </tr>\n",
       "    <tr>\n",
       "      <th>3</th>\n",
       "      <td>116</td>\n",
       "      <td>8</td>\n",
       "      <td>0</td>\n",
       "      <td>60.0</td>\n",
       "      <td>1</td>\n",
       "      <td>0</td>\n",
       "      <td>14</td>\n",
       "      <td>31</td>\n",
       "      <td>19</td>\n",
       "      <td>12</td>\n",
       "      <td>3</td>\n",
       "      <td>1</td>\n",
       "      <td>0</td>\n",
       "      <td>0</td>\n",
       "    </tr>\n",
       "    <tr>\n",
       "      <th>4</th>\n",
       "      <td>116</td>\n",
       "      <td>8</td>\n",
       "      <td>1</td>\n",
       "      <td>58.0</td>\n",
       "      <td>0</td>\n",
       "      <td>0</td>\n",
       "      <td>14</td>\n",
       "      <td>31</td>\n",
       "      <td>19</td>\n",
       "      <td>12</td>\n",
       "      <td>3</td>\n",
       "      <td>1</td>\n",
       "      <td>0</td>\n",
       "      <td>0</td>\n",
       "    </tr>\n",
       "    <tr>\n",
       "      <th>5</th>\n",
       "      <td>23</td>\n",
       "      <td>8</td>\n",
       "      <td>0</td>\n",
       "      <td>44.0</td>\n",
       "      <td>0</td>\n",
       "      <td>1</td>\n",
       "      <td>14</td>\n",
       "      <td>31</td>\n",
       "      <td>19</td>\n",
       "      <td>12</td>\n",
       "      <td>3</td>\n",
       "      <td>1</td>\n",
       "      <td>0</td>\n",
       "      <td>0</td>\n",
       "    </tr>\n",
       "    <tr>\n",
       "      <th>6</th>\n",
       "      <td>105</td>\n",
       "      <td>8</td>\n",
       "      <td>1</td>\n",
       "      <td>34.0</td>\n",
       "      <td>0</td>\n",
       "      <td>1</td>\n",
       "      <td>14</td>\n",
       "      <td>31</td>\n",
       "      <td>19</td>\n",
       "      <td>12</td>\n",
       "      <td>3</td>\n",
       "      <td>1</td>\n",
       "      <td>0</td>\n",
       "      <td>0</td>\n",
       "    </tr>\n",
       "    <tr>\n",
       "      <th>7</th>\n",
       "      <td>13</td>\n",
       "      <td>8</td>\n",
       "      <td>1</td>\n",
       "      <td>37.0</td>\n",
       "      <td>1</td>\n",
       "      <td>0</td>\n",
       "      <td>14</td>\n",
       "      <td>31</td>\n",
       "      <td>19</td>\n",
       "      <td>12</td>\n",
       "      <td>3</td>\n",
       "      <td>1</td>\n",
       "      <td>6</td>\n",
       "      <td>0</td>\n",
       "    </tr>\n",
       "    <tr>\n",
       "      <th>8</th>\n",
       "      <td>13</td>\n",
       "      <td>8</td>\n",
       "      <td>1</td>\n",
       "      <td>39.0</td>\n",
       "      <td>1</td>\n",
       "      <td>0</td>\n",
       "      <td>14</td>\n",
       "      <td>31</td>\n",
       "      <td>19</td>\n",
       "      <td>12</td>\n",
       "      <td>3</td>\n",
       "      <td>1</td>\n",
       "      <td>5</td>\n",
       "      <td>0</td>\n",
       "    </tr>\n",
       "    <tr>\n",
       "      <th>9</th>\n",
       "      <td>13</td>\n",
       "      <td>8</td>\n",
       "      <td>1</td>\n",
       "      <td>56.0</td>\n",
       "      <td>1</td>\n",
       "      <td>0</td>\n",
       "      <td>14</td>\n",
       "      <td>31</td>\n",
       "      <td>19</td>\n",
       "      <td>12</td>\n",
       "      <td>3</td>\n",
       "      <td>1</td>\n",
       "      <td>4</td>\n",
       "      <td>0</td>\n",
       "    </tr>\n",
       "    <tr>\n",
       "      <th>10</th>\n",
       "      <td>13</td>\n",
       "      <td>8</td>\n",
       "      <td>0</td>\n",
       "      <td>18.0</td>\n",
       "      <td>1</td>\n",
       "      <td>0</td>\n",
       "      <td>14</td>\n",
       "      <td>31</td>\n",
       "      <td>19</td>\n",
       "      <td>12</td>\n",
       "      <td>3</td>\n",
       "      <td>1</td>\n",
       "      <td>1</td>\n",
       "      <td>0</td>\n",
       "    </tr>\n",
       "    <tr>\n",
       "      <th>11</th>\n",
       "      <td>13</td>\n",
       "      <td>8</td>\n",
       "      <td>0</td>\n",
       "      <td>32.0</td>\n",
       "      <td>1</td>\n",
       "      <td>0</td>\n",
       "      <td>14</td>\n",
       "      <td>31</td>\n",
       "      <td>19</td>\n",
       "      <td>12</td>\n",
       "      <td>3</td>\n",
       "      <td>1</td>\n",
       "      <td>5</td>\n",
       "      <td>0</td>\n",
       "    </tr>\n",
       "    <tr>\n",
       "      <th>12</th>\n",
       "      <td>100</td>\n",
       "      <td>8</td>\n",
       "      <td>1</td>\n",
       "      <td>37.0</td>\n",
       "      <td>1</td>\n",
       "      <td>0</td>\n",
       "      <td>14</td>\n",
       "      <td>31</td>\n",
       "      <td>19</td>\n",
       "      <td>12</td>\n",
       "      <td>3</td>\n",
       "      <td>1</td>\n",
       "      <td>0</td>\n",
       "      <td>0</td>\n",
       "    </tr>\n",
       "    <tr>\n",
       "      <th>13</th>\n",
       "      <td>135</td>\n",
       "      <td>8</td>\n",
       "      <td>1</td>\n",
       "      <td>51.0</td>\n",
       "      <td>0</td>\n",
       "      <td>1</td>\n",
       "      <td>14</td>\n",
       "      <td>31</td>\n",
       "      <td>19</td>\n",
       "      <td>12</td>\n",
       "      <td>3</td>\n",
       "      <td>1</td>\n",
       "      <td>0</td>\n",
       "      <td>0</td>\n",
       "    </tr>\n",
       "    <tr>\n",
       "      <th>14</th>\n",
       "      <td>105</td>\n",
       "      <td>8</td>\n",
       "      <td>1</td>\n",
       "      <td>57.0</td>\n",
       "      <td>0</td>\n",
       "      <td>1</td>\n",
       "      <td>14</td>\n",
       "      <td>31</td>\n",
       "      <td>19</td>\n",
       "      <td>12</td>\n",
       "      <td>3</td>\n",
       "      <td>1</td>\n",
       "      <td>0</td>\n",
       "      <td>1</td>\n",
       "    </tr>\n",
       "    <tr>\n",
       "      <th>15</th>\n",
       "      <td>53</td>\n",
       "      <td>8</td>\n",
       "      <td>1</td>\n",
       "      <td>56.0</td>\n",
       "      <td>1</td>\n",
       "      <td>0</td>\n",
       "      <td>14</td>\n",
       "      <td>31</td>\n",
       "      <td>19</td>\n",
       "      <td>12</td>\n",
       "      <td>3</td>\n",
       "      <td>1</td>\n",
       "      <td>0</td>\n",
       "      <td>0</td>\n",
       "    </tr>\n",
       "    <tr>\n",
       "      <th>16</th>\n",
       "      <td>53</td>\n",
       "      <td>8</td>\n",
       "      <td>1</td>\n",
       "      <td>50.0</td>\n",
       "      <td>1</td>\n",
       "      <td>0</td>\n",
       "      <td>14</td>\n",
       "      <td>31</td>\n",
       "      <td>19</td>\n",
       "      <td>12</td>\n",
       "      <td>3</td>\n",
       "      <td>1</td>\n",
       "      <td>0</td>\n",
       "      <td>0</td>\n",
       "    </tr>\n",
       "    <tr>\n",
       "      <th>17</th>\n",
       "      <td>71</td>\n",
       "      <td>8</td>\n",
       "      <td>0</td>\n",
       "      <td>52.0</td>\n",
       "      <td>0</td>\n",
       "      <td>1</td>\n",
       "      <td>14</td>\n",
       "      <td>31</td>\n",
       "      <td>19</td>\n",
       "      <td>12</td>\n",
       "      <td>3</td>\n",
       "      <td>1</td>\n",
       "      <td>8</td>\n",
       "      <td>0</td>\n",
       "    </tr>\n",
       "    <tr>\n",
       "      <th>18</th>\n",
       "      <td>67</td>\n",
       "      <td>8</td>\n",
       "      <td>1</td>\n",
       "      <td>33.0</td>\n",
       "      <td>1</td>\n",
       "      <td>0</td>\n",
       "      <td>14</td>\n",
       "      <td>31</td>\n",
       "      <td>19</td>\n",
       "      <td>12</td>\n",
       "      <td>3</td>\n",
       "      <td>1</td>\n",
       "      <td>6</td>\n",
       "      <td>0</td>\n",
       "    </tr>\n",
       "    <tr>\n",
       "      <th>19</th>\n",
       "      <td>67</td>\n",
       "      <td>8</td>\n",
       "      <td>1</td>\n",
       "      <td>40.0</td>\n",
       "      <td>1</td>\n",
       "      <td>0</td>\n",
       "      <td>14</td>\n",
       "      <td>31</td>\n",
       "      <td>19</td>\n",
       "      <td>12</td>\n",
       "      <td>3</td>\n",
       "      <td>1</td>\n",
       "      <td>5</td>\n",
       "      <td>0</td>\n",
       "    </tr>\n",
       "  </tbody>\n",
       "</table>\n",
       "</div>"
      ],
      "text/plain": [
       "    location  country  gender   age  vis_wuhan  from_wuhan  symptom1  \\\n",
       "0        104        8       1  66.0          1           0        14   \n",
       "1        101        8       0  56.0          0           1        14   \n",
       "2        137        8       1  46.0          0           1        14   \n",
       "3        116        8       0  60.0          1           0        14   \n",
       "4        116        8       1  58.0          0           0        14   \n",
       "5         23        8       0  44.0          0           1        14   \n",
       "6        105        8       1  34.0          0           1        14   \n",
       "7         13        8       1  37.0          1           0        14   \n",
       "8         13        8       1  39.0          1           0        14   \n",
       "9         13        8       1  56.0          1           0        14   \n",
       "10        13        8       0  18.0          1           0        14   \n",
       "11        13        8       0  32.0          1           0        14   \n",
       "12       100        8       1  37.0          1           0        14   \n",
       "13       135        8       1  51.0          0           1        14   \n",
       "14       105        8       1  57.0          0           1        14   \n",
       "15        53        8       1  56.0          1           0        14   \n",
       "16        53        8       1  50.0          1           0        14   \n",
       "17        71        8       0  52.0          0           1        14   \n",
       "18        67        8       1  33.0          1           0        14   \n",
       "19        67        8       1  40.0          1           0        14   \n",
       "\n",
       "    symptom2  symptom3  symptom4  symptom5  symptom6  diff_sym_hos  result  \n",
       "0         31        19        12         3         1             8       1  \n",
       "1         31        19        12         3         1             0       0  \n",
       "2         31        19        12         3         1            13       0  \n",
       "3         31        19        12         3         1             0       0  \n",
       "4         31        19        12         3         1             0       0  \n",
       "5         31        19        12         3         1             0       0  \n",
       "6         31        19        12         3         1             0       0  \n",
       "7         31        19        12         3         1             6       0  \n",
       "8         31        19        12         3         1             5       0  \n",
       "9         31        19        12         3         1             4       0  \n",
       "10        31        19        12         3         1             1       0  \n",
       "11        31        19        12         3         1             5       0  \n",
       "12        31        19        12         3         1             0       0  \n",
       "13        31        19        12         3         1             0       0  \n",
       "14        31        19        12         3         1             0       1  \n",
       "15        31        19        12         3         1             0       0  \n",
       "16        31        19        12         3         1             0       0  \n",
       "17        31        19        12         3         1             8       0  \n",
       "18        31        19        12         3         1             6       0  \n",
       "19        31        19        12         3         1             5       0  "
      ]
     },
     "execution_count": 5,
     "metadata": {},
     "output_type": "execute_result"
    }
   ],
   "source": [
    "df = pd.read_csv(\"./data.csv\", index_col=0)\n",
    "df.head(20)"
   ]
  },
  {
   "cell_type": "code",
   "execution_count": 6,
   "id": "82bdf375",
   "metadata": {},
   "outputs": [
    {
     "data": {
      "text/plain": [
       "(863, 14)"
      ]
     },
     "execution_count": 6,
     "metadata": {},
     "output_type": "execute_result"
    }
   ],
   "source": [
    "df.shape"
   ]
  },
  {
   "cell_type": "code",
   "execution_count": 7,
   "id": "e667a64f",
   "metadata": {},
   "outputs": [
    {
     "data": {
      "text/plain": [
       "Index(['location', 'country', 'gender', 'age', 'vis_wuhan', 'from_wuhan',\n",
       "       'symptom1', 'symptom2', 'symptom3', 'symptom4', 'symptom5', 'symptom6',\n",
       "       'diff_sym_hos', 'result'],\n",
       "      dtype='object')"
      ]
     },
     "execution_count": 7,
     "metadata": {},
     "output_type": "execute_result"
    }
   ],
   "source": [
    "col_names = df.columns\n",
    "col_names"
   ]
  },
  {
   "cell_type": "code",
   "execution_count": 8,
   "id": "eb86e165",
   "metadata": {
    "scrolled": false
   },
   "outputs": [
    {
     "name": "stdout",
     "output_type": "stream",
     "text": [
      "<class 'pandas.core.frame.DataFrame'>\n",
      "Int64Index: 863 entries, 0 to 862\n",
      "Data columns (total 14 columns):\n",
      " #   Column        Non-Null Count  Dtype  \n",
      "---  ------        --------------  -----  \n",
      " 0   location      863 non-null    int64  \n",
      " 1   country       863 non-null    int64  \n",
      " 2   gender        863 non-null    int64  \n",
      " 3   age           863 non-null    float64\n",
      " 4   vis_wuhan     863 non-null    int64  \n",
      " 5   from_wuhan    863 non-null    int64  \n",
      " 6   symptom1      863 non-null    int64  \n",
      " 7   symptom2      863 non-null    int64  \n",
      " 8   symptom3      863 non-null    int64  \n",
      " 9   symptom4      863 non-null    int64  \n",
      " 10  symptom5      863 non-null    int64  \n",
      " 11  symptom6      863 non-null    int64  \n",
      " 12  diff_sym_hos  863 non-null    int64  \n",
      " 13  result        863 non-null    int64  \n",
      "dtypes: float64(1), int64(13)\n",
      "memory usage: 101.1 KB\n"
     ]
    }
   ],
   "source": [
    "df.info()"
   ]
  },
  {
   "cell_type": "code",
   "execution_count": 9,
   "id": "d329a40b",
   "metadata": {},
   "outputs": [
    {
     "name": "stdout",
     "output_type": "stream",
     "text": [
      "Number of values in location: 139\n",
      "Number of values in country: 34\n",
      "Number of values in gender: 3\n",
      "Number of values in age: 81\n",
      "Number of values in vis_wuhan: 2\n",
      "Number of values in from_wuhan: 2\n",
      "Number of values in symptom1: 25\n",
      "Number of values in symptom2: 32\n",
      "Number of values in symptom3: 20\n",
      "Number of values in symptom4: 13\n",
      "Number of values in symptom5: 4\n",
      "Number of values in symptom6: 2\n",
      "Number of values in diff_sym_hos: 18\n",
      "Number of values in result: 2\n"
     ]
    }
   ],
   "source": [
    "for col in df.columns:\n",
    "    print(\"Number of values in {}: {}\".format(col, len(df[col].unique())))"
   ]
  },
  {
   "cell_type": "code",
   "execution_count": 10,
   "id": "a254aff8",
   "metadata": {
    "scrolled": false
   },
   "outputs": [
    {
     "name": "stdout",
     "output_type": "stream",
     "text": [
      "108    85\n",
      "45     78\n",
      "44     43\n",
      "114    37\n",
      "110    33\n",
      "       ..\n",
      "8       1\n",
      "77      1\n",
      "60      1\n",
      "37      1\n",
      "15      1\n",
      "Name: location, Length: 139, dtype: int64\n",
      "18    172\n",
      "8     155\n",
      "13     90\n",
      "24     86\n",
      "12     54\n",
      "29     37\n",
      "11     35\n",
      "28     33\n",
      "25     32\n",
      "23     31\n",
      "30     17\n",
      "4      17\n",
      "32     15\n",
      "15     14\n",
      "31     14\n",
      "2      11\n",
      "7      10\n",
      "19      9\n",
      "33      8\n",
      "21      4\n",
      "14      3\n",
      "17      3\n",
      "3       2\n",
      "9       1\n",
      "1       1\n",
      "0       1\n",
      "6       1\n",
      "20      1\n",
      "16      1\n",
      "5       1\n",
      "26      1\n",
      "10      1\n",
      "22      1\n",
      "27      1\n",
      "Name: country, dtype: int64\n",
      "1    389\n",
      "0    302\n",
      "2    172\n",
      "Name: gender, dtype: int64\n",
      "49.4    223\n",
      "55.0     65\n",
      "65.0     44\n",
      "45.0     36\n",
      "75.0     32\n",
      "       ... \n",
      "74.0      1\n",
      "4.0       1\n",
      "78.0      1\n",
      "11.0      1\n",
      "81.0      1\n",
      "Name: age, Length: 81, dtype: int64\n",
      "0    706\n",
      "1    157\n",
      "Name: vis_wuhan, dtype: int64\n",
      "0    770\n",
      "1     93\n",
      "Name: from_wuhan, dtype: int64\n",
      "14    644\n",
      "6     143\n",
      "2      37\n",
      "4       7\n",
      "20      7\n",
      "21      3\n",
      "18      2\n",
      "22      2\n",
      "24      2\n",
      "15      1\n",
      "0       1\n",
      "5       1\n",
      "23      1\n",
      "16      1\n",
      "17      1\n",
      "7       1\n",
      "9       1\n",
      "19      1\n",
      "13      1\n",
      "11      1\n",
      "8       1\n",
      "12      1\n",
      "1       1\n",
      "10      1\n",
      "3       1\n",
      "Name: symptom1, dtype: int64\n",
      "31    724\n",
      "7      54\n",
      "12     15\n",
      "17     14\n",
      "5       8\n",
      "27      8\n",
      "13      4\n",
      "28      4\n",
      "24      4\n",
      "10      2\n",
      "15      2\n",
      "25      2\n",
      "19      2\n",
      "9       2\n",
      "16      1\n",
      "29      1\n",
      "8       1\n",
      "14      1\n",
      "3       1\n",
      "18      1\n",
      "4       1\n",
      "1       1\n",
      "21      1\n",
      "26      1\n",
      "23      1\n",
      "11      1\n",
      "6       1\n",
      "22      1\n",
      "2       1\n",
      "0       1\n",
      "30      1\n",
      "20      1\n",
      "Name: symptom2, dtype: int64\n",
      "19    803\n",
      "8      10\n",
      "6       7\n",
      "15      6\n",
      "5       5\n",
      "16      5\n",
      "14      5\n",
      "7       5\n",
      "3       4\n",
      "2       3\n",
      "11      1\n",
      "18      1\n",
      "12      1\n",
      "9       1\n",
      "17      1\n",
      "10      1\n",
      "13      1\n",
      "0       1\n",
      "4       1\n",
      "1       1\n",
      "Name: symptom3, dtype: int64\n",
      "12    844\n",
      "2       3\n",
      "0       2\n",
      "7       2\n",
      "3       2\n",
      "1       2\n",
      "9       2\n",
      "8       1\n",
      "11      1\n",
      "5       1\n",
      "10      1\n",
      "6       1\n",
      "4       1\n",
      "Name: symptom4, dtype: int64\n",
      "3    860\n",
      "2      1\n",
      "1      1\n",
      "0      1\n",
      "Name: symptom5, dtype: int64\n",
      "1    862\n",
      "0      1\n",
      "Name: symptom6, dtype: int64\n",
      " 0     629\n",
      " 1      73\n",
      " 2      39\n",
      " 3      28\n",
      " 4      25\n",
      " 5      18\n",
      " 6      12\n",
      " 8       9\n",
      " 9       8\n",
      " 12      5\n",
      " 7       4\n",
      " 10      3\n",
      " 15      2\n",
      " 13      2\n",
      " 14      2\n",
      " 11      2\n",
      "-1       1\n",
      "-5       1\n",
      "Name: diff_sym_hos, dtype: int64\n",
      "0    755\n",
      "1    108\n",
      "Name: result, dtype: int64\n"
     ]
    }
   ],
   "source": [
    "for col in df.columns:\n",
    "    print(df[col].value_counts())"
   ]
  },
  {
   "cell_type": "code",
   "execution_count": 11,
   "id": "d9a33612",
   "metadata": {
    "scrolled": true
   },
   "outputs": [
    {
     "data": {
      "text/html": [
       "<div>\n",
       "<style scoped>\n",
       "    .dataframe tbody tr th:only-of-type {\n",
       "        vertical-align: middle;\n",
       "    }\n",
       "\n",
       "    .dataframe tbody tr th {\n",
       "        vertical-align: top;\n",
       "    }\n",
       "\n",
       "    .dataframe thead th {\n",
       "        text-align: right;\n",
       "    }\n",
       "</style>\n",
       "<table border=\"1\" class=\"dataframe\">\n",
       "  <thead>\n",
       "    <tr style=\"text-align: right;\">\n",
       "      <th></th>\n",
       "      <th>location</th>\n",
       "      <th>country</th>\n",
       "      <th>gender</th>\n",
       "      <th>age</th>\n",
       "      <th>vis_wuhan</th>\n",
       "      <th>from_wuhan</th>\n",
       "      <th>symptom1</th>\n",
       "      <th>symptom2</th>\n",
       "      <th>symptom3</th>\n",
       "      <th>symptom4</th>\n",
       "      <th>symptom5</th>\n",
       "      <th>symptom6</th>\n",
       "      <th>diff_sym_hos</th>\n",
       "      <th>result</th>\n",
       "    </tr>\n",
       "  </thead>\n",
       "  <tbody>\n",
       "    <tr>\n",
       "      <th>223</th>\n",
       "      <td>56</td>\n",
       "      <td>18</td>\n",
       "      <td>1</td>\n",
       "      <td>35.0</td>\n",
       "      <td>0</td>\n",
       "      <td>0</td>\n",
       "      <td>6</td>\n",
       "      <td>31</td>\n",
       "      <td>19</td>\n",
       "      <td>12</td>\n",
       "      <td>3</td>\n",
       "      <td>1</td>\n",
       "      <td>-1</td>\n",
       "      <td>0</td>\n",
       "    </tr>\n",
       "    <tr>\n",
       "      <th>240</th>\n",
       "      <td>128</td>\n",
       "      <td>18</td>\n",
       "      <td>1</td>\n",
       "      <td>65.0</td>\n",
       "      <td>0</td>\n",
       "      <td>0</td>\n",
       "      <td>6</td>\n",
       "      <td>31</td>\n",
       "      <td>19</td>\n",
       "      <td>12</td>\n",
       "      <td>3</td>\n",
       "      <td>1</td>\n",
       "      <td>-5</td>\n",
       "      <td>0</td>\n",
       "    </tr>\n",
       "  </tbody>\n",
       "</table>\n",
       "</div>"
      ],
      "text/plain": [
       "     location  country  gender   age  vis_wuhan  from_wuhan  symptom1  \\\n",
       "223        56       18       1  35.0          0           0         6   \n",
       "240       128       18       1  65.0          0           0         6   \n",
       "\n",
       "     symptom2  symptom3  symptom4  symptom5  symptom6  diff_sym_hos  result  \n",
       "223        31        19        12         3         1            -1       0  \n",
       "240        31        19        12         3         1            -5       0  "
      ]
     },
     "execution_count": 11,
     "metadata": {},
     "output_type": "execute_result"
    }
   ],
   "source": [
    "df[df[\"diff_sym_hos\"] < 0]"
   ]
  },
  {
   "cell_type": "markdown",
   "id": "e5b04b60",
   "metadata": {},
   "source": [
    "#### Two rows have negative 'diff_sym_hos' which is wrong since it should represent days \n",
    "I will assume it was zero"
   ]
  },
  {
   "cell_type": "code",
   "execution_count": 12,
   "id": "00fd64b5",
   "metadata": {},
   "outputs": [],
   "source": [
    "df.loc[df[\"diff_sym_hos\"] < 0, \"diff_sym_hos\"] = 0"
   ]
  },
  {
   "cell_type": "markdown",
   "id": "f45010f4",
   "metadata": {},
   "source": [
    "### Country has 34 classes"
   ]
  },
  {
   "cell_type": "code",
   "execution_count": 13,
   "id": "a8762808",
   "metadata": {
    "scrolled": false
   },
   "outputs": [
    {
     "name": "stdout",
     "output_type": "stream",
     "text": [
      "18    172\n",
      "8     155\n",
      "13     90\n",
      "24     86\n",
      "12     54\n",
      "29     37\n",
      "11     35\n",
      "28     33\n",
      "25     32\n",
      "23     31\n",
      "30     17\n",
      "4      17\n",
      "32     15\n",
      "15     14\n",
      "31     14\n",
      "2      11\n",
      "7      10\n",
      "19      9\n",
      "33      8\n",
      "21      4\n",
      "14      3\n",
      "17      3\n",
      "3       2\n",
      "9       1\n",
      "1       1\n",
      "0       1\n",
      "6       1\n",
      "20      1\n",
      "16      1\n",
      "5       1\n",
      "26      1\n",
      "10      1\n",
      "22      1\n",
      "27      1\n",
      "Name: country, dtype: int64\n",
      "34\n"
     ]
    }
   ],
   "source": [
    "print(df[\"country\"].value_counts())\n",
    "print(len(df[\"country\"].unique()))"
   ]
  },
  {
   "cell_type": "markdown",
   "id": "9b7f2d78",
   "metadata": {},
   "source": [
    "##### Some of them occur only once "
   ]
  },
  {
   "cell_type": "markdown",
   "id": "c4a7303b",
   "metadata": {},
   "source": [
    "percentage of frequency distibution of countries"
   ]
  },
  {
   "cell_type": "code",
   "execution_count": 14,
   "id": "3d8d95ac",
   "metadata": {},
   "outputs": [
    {
     "name": "stdout",
     "output_type": "stream",
     "text": [
      "18    0.199305\n",
      "8     0.179606\n",
      "13    0.104287\n",
      "24    0.099652\n",
      "12    0.062572\n",
      "29    0.042874\n",
      "11    0.040556\n",
      "28    0.038239\n",
      "25    0.037080\n",
      "23    0.035921\n",
      "30    0.019699\n",
      "4     0.019699\n",
      "32    0.017381\n",
      "15    0.016222\n",
      "31    0.016222\n",
      "2     0.012746\n",
      "7     0.011587\n",
      "19    0.010429\n",
      "33    0.009270\n",
      "21    0.004635\n",
      "14    0.003476\n",
      "17    0.003476\n",
      "3     0.002317\n",
      "9     0.001159\n",
      "1     0.001159\n",
      "0     0.001159\n",
      "6     0.001159\n",
      "20    0.001159\n",
      "16    0.001159\n",
      "5     0.001159\n",
      "26    0.001159\n",
      "10    0.001159\n",
      "22    0.001159\n",
      "27    0.001159\n",
      "Name: country, dtype: float64\n"
     ]
    }
   ],
   "source": [
    "print(df[\"country\"].value_counts() / df.shape[0])"
   ]
  },
  {
   "cell_type": "markdown",
   "id": "1050787b",
   "metadata": {},
   "source": [
    "We will try to decrease number of classes of 'country' by assigning a class for each country that has frequency above 0.1 and the others will be grouped in one group that be considered as 'other' or 'else' group\n",
    "(Binning)"
   ]
  },
  {
   "cell_type": "code",
   "execution_count": 15,
   "id": "33c1d97b",
   "metadata": {},
   "outputs": [],
   "source": [
    "newCountry = pd.DataFrame(data=df['country'], columns=[\"country\"]) \n",
    "# print(newCountry.head())\n",
    "newCounter = 1\n",
    "for country, freq in \\\n",
    "        zip(df['country'].value_counts().keys().to_list(), df['country'].value_counts().to_list()):\n",
    "    if freq / df.shape[0] >= 0.1:\n",
    "        newCountry.loc[df['country'] == country, 'country'] = newCounter\n",
    "        newCounter += 1\n",
    "    else:\n",
    "        newCountry.loc[df['country'] == country, 'country'] = 0"
   ]
  },
  {
   "cell_type": "code",
   "execution_count": 16,
   "id": "fe9cd7e7",
   "metadata": {},
   "outputs": [
    {
     "name": "stdout",
     "output_type": "stream",
     "text": [
      "country\n",
      "0          446\n",
      "1          172\n",
      "2          155\n",
      "3           90\n",
      "dtype: int64\n"
     ]
    }
   ],
   "source": [
    "print(newCountry.value_counts())"
   ]
  },
  {
   "cell_type": "markdown",
   "id": "0851623f",
   "metadata": {},
   "source": [
    "Now it has 4 unique variables 1,2,3 for countries and '0' represents other countries"
   ]
  },
  {
   "cell_type": "markdown",
   "id": "408460b2",
   "metadata": {},
   "source": [
    "Now we will one hot encode country"
   ]
  },
  {
   "cell_type": "code",
   "execution_count": 17,
   "id": "2f14b6db",
   "metadata": {},
   "outputs": [],
   "source": [
    "newCountry = pd.get_dummies(newCountry, columns=['country'])"
   ]
  },
  {
   "cell_type": "code",
   "execution_count": 18,
   "id": "2f710859",
   "metadata": {},
   "outputs": [
    {
     "data": {
      "text/plain": [
       "(863, 4)"
      ]
     },
     "execution_count": 18,
     "metadata": {},
     "output_type": "execute_result"
    }
   ],
   "source": [
    "newCountry.shape"
   ]
  },
  {
   "cell_type": "code",
   "execution_count": 19,
   "id": "931dccda",
   "metadata": {},
   "outputs": [],
   "source": [
    "df = df.drop(['country'], axis=1)\n",
    "df = pd.concat([df, newCountry], axis=1)"
   ]
  },
  {
   "cell_type": "markdown",
   "id": "2fcac5c0",
   "metadata": {},
   "source": [
    "### We will look at symptoms"
   ]
  },
  {
   "cell_type": "code",
   "execution_count": 20,
   "id": "2ca7841b",
   "metadata": {
    "scrolled": false
   },
   "outputs": [
    {
     "name": "stdout",
     "output_type": "stream",
     "text": [
      "14    644\n",
      "6     143\n",
      "2      37\n",
      "4       7\n",
      "20      7\n",
      "21      3\n",
      "18      2\n",
      "22      2\n",
      "24      2\n",
      "15      1\n",
      "0       1\n",
      "5       1\n",
      "23      1\n",
      "16      1\n",
      "17      1\n",
      "7       1\n",
      "9       1\n",
      "19      1\n",
      "13      1\n",
      "11      1\n",
      "8       1\n",
      "12      1\n",
      "1       1\n",
      "10      1\n",
      "3       1\n",
      "Name: symptom1, dtype: int64\n",
      "31    724\n",
      "7      54\n",
      "12     15\n",
      "17     14\n",
      "5       8\n",
      "27      8\n",
      "13      4\n",
      "28      4\n",
      "24      4\n",
      "10      2\n",
      "15      2\n",
      "25      2\n",
      "19      2\n",
      "9       2\n",
      "16      1\n",
      "29      1\n",
      "8       1\n",
      "14      1\n",
      "3       1\n",
      "18      1\n",
      "4       1\n",
      "1       1\n",
      "21      1\n",
      "26      1\n",
      "23      1\n",
      "11      1\n",
      "6       1\n",
      "22      1\n",
      "2       1\n",
      "0       1\n",
      "30      1\n",
      "20      1\n",
      "Name: symptom2, dtype: int64\n",
      "19    803\n",
      "8      10\n",
      "6       7\n",
      "15      6\n",
      "5       5\n",
      "16      5\n",
      "14      5\n",
      "7       5\n",
      "3       4\n",
      "2       3\n",
      "11      1\n",
      "18      1\n",
      "12      1\n",
      "9       1\n",
      "17      1\n",
      "10      1\n",
      "13      1\n",
      "0       1\n",
      "4       1\n",
      "1       1\n",
      "Name: symptom3, dtype: int64\n",
      "12    844\n",
      "2       3\n",
      "0       2\n",
      "7       2\n",
      "3       2\n",
      "1       2\n",
      "9       2\n",
      "8       1\n",
      "11      1\n",
      "5       1\n",
      "10      1\n",
      "6       1\n",
      "4       1\n",
      "Name: symptom4, dtype: int64\n",
      "3    860\n",
      "2      1\n",
      "1      1\n",
      "0      1\n",
      "Name: symptom5, dtype: int64\n",
      "1    862\n",
      "0      1\n",
      "Name: symptom6, dtype: int64\n"
     ]
    }
   ],
   "source": [
    "symptoms = [\"symptom1\", \"symptom2\", \"symptom3\", \"symptom4\", \"symptom5\", \"symptom6\"]\n",
    "for sym in symptoms:\n",
    "    print(df[sym].value_counts())"
   ]
  },
  {
   "cell_type": "markdown",
   "id": "4c9b19c9",
   "metadata": {},
   "source": [
    "In Symptoms 1 to 4 \n",
    "we can notice that most of samples are concentrated in one or two values and the others are not repeated that much."
   ]
  },
  {
   "cell_type": "code",
   "execution_count": 21,
   "id": "bcb6310f",
   "metadata": {},
   "outputs": [
    {
     "data": {
      "text/html": [
       "<div>\n",
       "<style scoped>\n",
       "    .dataframe tbody tr th:only-of-type {\n",
       "        vertical-align: middle;\n",
       "    }\n",
       "\n",
       "    .dataframe tbody tr th {\n",
       "        vertical-align: top;\n",
       "    }\n",
       "\n",
       "    .dataframe thead th {\n",
       "        text-align: right;\n",
       "    }\n",
       "</style>\n",
       "<table border=\"1\" class=\"dataframe\">\n",
       "  <thead>\n",
       "    <tr style=\"text-align: right;\">\n",
       "      <th></th>\n",
       "      <th>symptom1</th>\n",
       "      <th>symptom2</th>\n",
       "      <th>symptom3</th>\n",
       "      <th>symptom4</th>\n",
       "    </tr>\n",
       "  </thead>\n",
       "  <tbody>\n",
       "    <tr>\n",
       "      <th>0</th>\n",
       "      <td>14</td>\n",
       "      <td>31</td>\n",
       "      <td>19</td>\n",
       "      <td>12</td>\n",
       "    </tr>\n",
       "    <tr>\n",
       "      <th>1</th>\n",
       "      <td>14</td>\n",
       "      <td>31</td>\n",
       "      <td>19</td>\n",
       "      <td>12</td>\n",
       "    </tr>\n",
       "    <tr>\n",
       "      <th>2</th>\n",
       "      <td>14</td>\n",
       "      <td>31</td>\n",
       "      <td>19</td>\n",
       "      <td>12</td>\n",
       "    </tr>\n",
       "    <tr>\n",
       "      <th>3</th>\n",
       "      <td>14</td>\n",
       "      <td>31</td>\n",
       "      <td>19</td>\n",
       "      <td>12</td>\n",
       "    </tr>\n",
       "    <tr>\n",
       "      <th>4</th>\n",
       "      <td>14</td>\n",
       "      <td>31</td>\n",
       "      <td>19</td>\n",
       "      <td>12</td>\n",
       "    </tr>\n",
       "    <tr>\n",
       "      <th>...</th>\n",
       "      <td>...</td>\n",
       "      <td>...</td>\n",
       "      <td>...</td>\n",
       "      <td>...</td>\n",
       "    </tr>\n",
       "    <tr>\n",
       "      <th>858</th>\n",
       "      <td>14</td>\n",
       "      <td>31</td>\n",
       "      <td>19</td>\n",
       "      <td>12</td>\n",
       "    </tr>\n",
       "    <tr>\n",
       "      <th>859</th>\n",
       "      <td>14</td>\n",
       "      <td>31</td>\n",
       "      <td>19</td>\n",
       "      <td>12</td>\n",
       "    </tr>\n",
       "    <tr>\n",
       "      <th>860</th>\n",
       "      <td>14</td>\n",
       "      <td>31</td>\n",
       "      <td>19</td>\n",
       "      <td>12</td>\n",
       "    </tr>\n",
       "    <tr>\n",
       "      <th>861</th>\n",
       "      <td>14</td>\n",
       "      <td>31</td>\n",
       "      <td>19</td>\n",
       "      <td>12</td>\n",
       "    </tr>\n",
       "    <tr>\n",
       "      <th>862</th>\n",
       "      <td>14</td>\n",
       "      <td>31</td>\n",
       "      <td>19</td>\n",
       "      <td>12</td>\n",
       "    </tr>\n",
       "  </tbody>\n",
       "</table>\n",
       "<p>863 rows × 4 columns</p>\n",
       "</div>"
      ],
      "text/plain": [
       "     symptom1  symptom2  symptom3  symptom4\n",
       "0          14        31        19        12\n",
       "1          14        31        19        12\n",
       "2          14        31        19        12\n",
       "3          14        31        19        12\n",
       "4          14        31        19        12\n",
       "..        ...       ...       ...       ...\n",
       "858        14        31        19        12\n",
       "859        14        31        19        12\n",
       "860        14        31        19        12\n",
       "861        14        31        19        12\n",
       "862        14        31        19        12\n",
       "\n",
       "[863 rows x 4 columns]"
      ]
     },
     "execution_count": 21,
     "metadata": {},
     "output_type": "execute_result"
    }
   ],
   "source": [
    "df[[\"symptom1\", \"symptom2\", 'symptom3', 'symptom4']]"
   ]
  },
  {
   "cell_type": "markdown",
   "id": "d93d6c83",
   "metadata": {},
   "source": [
    "##### Symptom1 has alot of values that doesn;t have high frequency "
   ]
  },
  {
   "cell_type": "markdown",
   "id": "5b0c09a4",
   "metadata": {},
   "source": [
    "##### I will take a similar approach to what have been done to 'country' feature above"
   ]
  },
  {
   "cell_type": "code",
   "execution_count": 22,
   "id": "431fdc8d",
   "metadata": {
    "scrolled": true
   },
   "outputs": [],
   "source": [
    "changedSymp = ['symptom1', 'symptom2', 'symptom3', 'symptom4']\n",
    "newSymptoms = pd.DataFrame(data=df[changedSymp])\n",
    "for symptom in changedSymp:\n",
    "    counter = 1\n",
    "    for symi, cnt in \\\n",
    "        zip(df[symptom].value_counts().keys().to_list(), df[symptom].value_counts().to_list()):\n",
    "        if cnt / df.shape[0] >= 0.05:\n",
    "            newSymptoms.loc[df[symptom] == symi, symptom] = counter\n",
    "            counter += 1\n",
    "        else:\n",
    "            newSymptoms.loc[df[symptom] == symi, symptom] = 0"
   ]
  },
  {
   "cell_type": "code",
   "execution_count": 23,
   "id": "d4352534",
   "metadata": {
    "scrolled": true
   },
   "outputs": [
    {
     "name": "stdout",
     "output_type": "stream",
     "text": [
      "1    644\n",
      "2    143\n",
      "0     76\n",
      "Name: symptom1, dtype: int64\n",
      "1    724\n",
      "0     85\n",
      "2     54\n",
      "Name: symptom2, dtype: int64\n",
      "1    803\n",
      "0     60\n",
      "Name: symptom3, dtype: int64\n",
      "1    844\n",
      "0     19\n",
      "Name: symptom4, dtype: int64\n"
     ]
    }
   ],
   "source": [
    "for i in changedSymp:\n",
    "    print(newSymptoms[i].value_counts())"
   ]
  },
  {
   "cell_type": "code",
   "execution_count": 24,
   "id": "1fedb548",
   "metadata": {},
   "outputs": [],
   "source": [
    "df = df.drop(changedSymp, axis=1)\n",
    "df = pd.concat([df, newSymptoms[changedSymp]], axis=1)"
   ]
  },
  {
   "cell_type": "code",
   "execution_count": 25,
   "id": "22859012",
   "metadata": {
    "scrolled": false
   },
   "outputs": [
    {
     "data": {
      "text/html": [
       "<div>\n",
       "<style scoped>\n",
       "    .dataframe tbody tr th:only-of-type {\n",
       "        vertical-align: middle;\n",
       "    }\n",
       "\n",
       "    .dataframe tbody tr th {\n",
       "        vertical-align: top;\n",
       "    }\n",
       "\n",
       "    .dataframe thead th {\n",
       "        text-align: right;\n",
       "    }\n",
       "</style>\n",
       "<table border=\"1\" class=\"dataframe\">\n",
       "  <thead>\n",
       "    <tr style=\"text-align: right;\">\n",
       "      <th></th>\n",
       "      <th>location</th>\n",
       "      <th>gender</th>\n",
       "      <th>age</th>\n",
       "      <th>vis_wuhan</th>\n",
       "      <th>from_wuhan</th>\n",
       "      <th>symptom5</th>\n",
       "      <th>symptom6</th>\n",
       "      <th>diff_sym_hos</th>\n",
       "      <th>result</th>\n",
       "      <th>country_0</th>\n",
       "      <th>country_1</th>\n",
       "      <th>country_2</th>\n",
       "      <th>country_3</th>\n",
       "      <th>symptom1</th>\n",
       "      <th>symptom2</th>\n",
       "      <th>symptom3</th>\n",
       "      <th>symptom4</th>\n",
       "    </tr>\n",
       "  </thead>\n",
       "  <tbody>\n",
       "    <tr>\n",
       "      <th>0</th>\n",
       "      <td>104</td>\n",
       "      <td>1</td>\n",
       "      <td>66.0</td>\n",
       "      <td>1</td>\n",
       "      <td>0</td>\n",
       "      <td>3</td>\n",
       "      <td>1</td>\n",
       "      <td>8</td>\n",
       "      <td>1</td>\n",
       "      <td>0</td>\n",
       "      <td>0</td>\n",
       "      <td>1</td>\n",
       "      <td>0</td>\n",
       "      <td>1</td>\n",
       "      <td>1</td>\n",
       "      <td>1</td>\n",
       "      <td>1</td>\n",
       "    </tr>\n",
       "    <tr>\n",
       "      <th>1</th>\n",
       "      <td>101</td>\n",
       "      <td>0</td>\n",
       "      <td>56.0</td>\n",
       "      <td>0</td>\n",
       "      <td>1</td>\n",
       "      <td>3</td>\n",
       "      <td>1</td>\n",
       "      <td>0</td>\n",
       "      <td>0</td>\n",
       "      <td>0</td>\n",
       "      <td>0</td>\n",
       "      <td>1</td>\n",
       "      <td>0</td>\n",
       "      <td>1</td>\n",
       "      <td>1</td>\n",
       "      <td>1</td>\n",
       "      <td>1</td>\n",
       "    </tr>\n",
       "    <tr>\n",
       "      <th>2</th>\n",
       "      <td>137</td>\n",
       "      <td>1</td>\n",
       "      <td>46.0</td>\n",
       "      <td>0</td>\n",
       "      <td>1</td>\n",
       "      <td>3</td>\n",
       "      <td>1</td>\n",
       "      <td>13</td>\n",
       "      <td>0</td>\n",
       "      <td>0</td>\n",
       "      <td>0</td>\n",
       "      <td>1</td>\n",
       "      <td>0</td>\n",
       "      <td>1</td>\n",
       "      <td>1</td>\n",
       "      <td>1</td>\n",
       "      <td>1</td>\n",
       "    </tr>\n",
       "    <tr>\n",
       "      <th>3</th>\n",
       "      <td>116</td>\n",
       "      <td>0</td>\n",
       "      <td>60.0</td>\n",
       "      <td>1</td>\n",
       "      <td>0</td>\n",
       "      <td>3</td>\n",
       "      <td>1</td>\n",
       "      <td>0</td>\n",
       "      <td>0</td>\n",
       "      <td>0</td>\n",
       "      <td>0</td>\n",
       "      <td>1</td>\n",
       "      <td>0</td>\n",
       "      <td>1</td>\n",
       "      <td>1</td>\n",
       "      <td>1</td>\n",
       "      <td>1</td>\n",
       "    </tr>\n",
       "    <tr>\n",
       "      <th>4</th>\n",
       "      <td>116</td>\n",
       "      <td>1</td>\n",
       "      <td>58.0</td>\n",
       "      <td>0</td>\n",
       "      <td>0</td>\n",
       "      <td>3</td>\n",
       "      <td>1</td>\n",
       "      <td>0</td>\n",
       "      <td>0</td>\n",
       "      <td>0</td>\n",
       "      <td>0</td>\n",
       "      <td>1</td>\n",
       "      <td>0</td>\n",
       "      <td>1</td>\n",
       "      <td>1</td>\n",
       "      <td>1</td>\n",
       "      <td>1</td>\n",
       "    </tr>\n",
       "    <tr>\n",
       "      <th>...</th>\n",
       "      <td>...</td>\n",
       "      <td>...</td>\n",
       "      <td>...</td>\n",
       "      <td>...</td>\n",
       "      <td>...</td>\n",
       "      <td>...</td>\n",
       "      <td>...</td>\n",
       "      <td>...</td>\n",
       "      <td>...</td>\n",
       "      <td>...</td>\n",
       "      <td>...</td>\n",
       "      <td>...</td>\n",
       "      <td>...</td>\n",
       "      <td>...</td>\n",
       "      <td>...</td>\n",
       "      <td>...</td>\n",
       "      <td>...</td>\n",
       "    </tr>\n",
       "    <tr>\n",
       "      <th>858</th>\n",
       "      <td>48</td>\n",
       "      <td>2</td>\n",
       "      <td>24.0</td>\n",
       "      <td>0</td>\n",
       "      <td>0</td>\n",
       "      <td>3</td>\n",
       "      <td>1</td>\n",
       "      <td>0</td>\n",
       "      <td>1</td>\n",
       "      <td>1</td>\n",
       "      <td>0</td>\n",
       "      <td>0</td>\n",
       "      <td>0</td>\n",
       "      <td>1</td>\n",
       "      <td>1</td>\n",
       "      <td>1</td>\n",
       "      <td>1</td>\n",
       "    </tr>\n",
       "    <tr>\n",
       "      <th>859</th>\n",
       "      <td>0</td>\n",
       "      <td>2</td>\n",
       "      <td>35.0</td>\n",
       "      <td>0</td>\n",
       "      <td>0</td>\n",
       "      <td>3</td>\n",
       "      <td>1</td>\n",
       "      <td>0</td>\n",
       "      <td>0</td>\n",
       "      <td>1</td>\n",
       "      <td>0</td>\n",
       "      <td>0</td>\n",
       "      <td>0</td>\n",
       "      <td>1</td>\n",
       "      <td>1</td>\n",
       "      <td>1</td>\n",
       "      <td>1</td>\n",
       "    </tr>\n",
       "    <tr>\n",
       "      <th>860</th>\n",
       "      <td>3</td>\n",
       "      <td>1</td>\n",
       "      <td>49.4</td>\n",
       "      <td>0</td>\n",
       "      <td>0</td>\n",
       "      <td>3</td>\n",
       "      <td>1</td>\n",
       "      <td>0</td>\n",
       "      <td>0</td>\n",
       "      <td>1</td>\n",
       "      <td>0</td>\n",
       "      <td>0</td>\n",
       "      <td>0</td>\n",
       "      <td>1</td>\n",
       "      <td>1</td>\n",
       "      <td>1</td>\n",
       "      <td>1</td>\n",
       "    </tr>\n",
       "    <tr>\n",
       "      <th>861</th>\n",
       "      <td>24</td>\n",
       "      <td>1</td>\n",
       "      <td>49.4</td>\n",
       "      <td>0</td>\n",
       "      <td>0</td>\n",
       "      <td>3</td>\n",
       "      <td>1</td>\n",
       "      <td>0</td>\n",
       "      <td>0</td>\n",
       "      <td>1</td>\n",
       "      <td>0</td>\n",
       "      <td>0</td>\n",
       "      <td>0</td>\n",
       "      <td>1</td>\n",
       "      <td>1</td>\n",
       "      <td>1</td>\n",
       "      <td>1</td>\n",
       "    </tr>\n",
       "    <tr>\n",
       "      <th>862</th>\n",
       "      <td>15</td>\n",
       "      <td>1</td>\n",
       "      <td>70.0</td>\n",
       "      <td>0</td>\n",
       "      <td>0</td>\n",
       "      <td>3</td>\n",
       "      <td>1</td>\n",
       "      <td>0</td>\n",
       "      <td>0</td>\n",
       "      <td>1</td>\n",
       "      <td>0</td>\n",
       "      <td>0</td>\n",
       "      <td>0</td>\n",
       "      <td>1</td>\n",
       "      <td>1</td>\n",
       "      <td>1</td>\n",
       "      <td>1</td>\n",
       "    </tr>\n",
       "  </tbody>\n",
       "</table>\n",
       "<p>863 rows × 17 columns</p>\n",
       "</div>"
      ],
      "text/plain": [
       "     location  gender   age  vis_wuhan  from_wuhan  symptom5  symptom6  \\\n",
       "0         104       1  66.0          1           0         3         1   \n",
       "1         101       0  56.0          0           1         3         1   \n",
       "2         137       1  46.0          0           1         3         1   \n",
       "3         116       0  60.0          1           0         3         1   \n",
       "4         116       1  58.0          0           0         3         1   \n",
       "..        ...     ...   ...        ...         ...       ...       ...   \n",
       "858        48       2  24.0          0           0         3         1   \n",
       "859         0       2  35.0          0           0         3         1   \n",
       "860         3       1  49.4          0           0         3         1   \n",
       "861        24       1  49.4          0           0         3         1   \n",
       "862        15       1  70.0          0           0         3         1   \n",
       "\n",
       "     diff_sym_hos  result  country_0  country_1  country_2  country_3  \\\n",
       "0               8       1          0          0          1          0   \n",
       "1               0       0          0          0          1          0   \n",
       "2              13       0          0          0          1          0   \n",
       "3               0       0          0          0          1          0   \n",
       "4               0       0          0          0          1          0   \n",
       "..            ...     ...        ...        ...        ...        ...   \n",
       "858             0       1          1          0          0          0   \n",
       "859             0       0          1          0          0          0   \n",
       "860             0       0          1          0          0          0   \n",
       "861             0       0          1          0          0          0   \n",
       "862             0       0          1          0          0          0   \n",
       "\n",
       "     symptom1  symptom2  symptom3  symptom4  \n",
       "0           1         1         1         1  \n",
       "1           1         1         1         1  \n",
       "2           1         1         1         1  \n",
       "3           1         1         1         1  \n",
       "4           1         1         1         1  \n",
       "..        ...       ...       ...       ...  \n",
       "858         1         1         1         1  \n",
       "859         1         1         1         1  \n",
       "860         1         1         1         1  \n",
       "861         1         1         1         1  \n",
       "862         1         1         1         1  \n",
       "\n",
       "[863 rows x 17 columns]"
      ]
     },
     "execution_count": 25,
     "metadata": {},
     "output_type": "execute_result"
    }
   ],
   "source": [
    "df"
   ]
  },
  {
   "cell_type": "markdown",
   "id": "09d32de1",
   "metadata": {},
   "source": [
    "### We can see that the target variable is imbalanced"
   ]
  },
  {
   "cell_type": "code",
   "execution_count": 26,
   "id": "17486381",
   "metadata": {
    "scrolled": true
   },
   "outputs": [
    {
     "data": {
      "text/plain": [
       "0    0.874855\n",
       "1    0.125145\n",
       "Name: result, dtype: float64"
      ]
     },
     "execution_count": 26,
     "metadata": {},
     "output_type": "execute_result"
    }
   ],
   "source": [
    "df[\"result\"].value_counts() / len(df)"
   ]
  },
  {
   "cell_type": "markdown",
   "id": "274320ad",
   "metadata": {},
   "source": [
    "Since the target class is imbalanced we will keep an eye on metrics other than accuracy as F1, Recall and Precision"
   ]
  },
  {
   "cell_type": "markdown",
   "id": "fd94f1a5",
   "metadata": {},
   "source": [
    "### Spliting features from target"
   ]
  },
  {
   "cell_type": "markdown",
   "id": "c4ef33ec",
   "metadata": {},
   "source": [
    "We will drop location since it suffers from high cardinality and part of the information that location feature gives is already related to country feature as location is part of the country"
   ]
  },
  {
   "cell_type": "code",
   "execution_count": 27,
   "id": "037feeb6",
   "metadata": {
    "scrolled": true
   },
   "outputs": [
    {
     "name": "stdout",
     "output_type": "stream",
     "text": [
      "y dimensions:(863,) X dimesions:(863, 15)\n"
     ]
    }
   ],
   "source": [
    "y = df[\"result\"]\n",
    "X = df.drop([\"result\", \"location\"], axis=1)\n",
    "print(\"y dimensions:{} X dimesions:{}\".format(y.shape,X.shape))"
   ]
  },
  {
   "cell_type": "markdown",
   "id": "adab8c86",
   "metadata": {},
   "source": [
    "### Spliting data to training and test set"
   ]
  },
  {
   "cell_type": "code",
   "execution_count": 28,
   "id": "640abcfe",
   "metadata": {
    "scrolled": false
   },
   "outputs": [
    {
     "name": "stdout",
     "output_type": "stream",
     "text": [
      "(690, 15) (173, 15) (690,) (173,)\n"
     ]
    }
   ],
   "source": [
    "X_train, X_test, y_train, y_test = train_test_split(X, y, test_size=0.2, \\\n",
    "                                                    random_state=22, shuffle=True, stratify=y)\n",
    "print(X_train.shape, X_test.shape, y_train.shape, y_test.shape)"
   ]
  },
  {
   "cell_type": "code",
   "execution_count": 29,
   "id": "e71cdefe",
   "metadata": {},
   "outputs": [
    {
     "name": "stdout",
     "output_type": "stream",
     "text": [
      "0    604\n",
      "1     86\n",
      "Name: result, dtype: int64 \n",
      " 0    151\n",
      "1     22\n",
      "Name: result, dtype: int64\n"
     ]
    }
   ],
   "source": [
    "print(y_train.value_counts(), '\\n',y_test.value_counts())"
   ]
  },
  {
   "cell_type": "code",
   "execution_count": 30,
   "id": "9668abd7",
   "metadata": {},
   "outputs": [
    {
     "data": {
      "text/html": [
       "<div>\n",
       "<style scoped>\n",
       "    .dataframe tbody tr th:only-of-type {\n",
       "        vertical-align: middle;\n",
       "    }\n",
       "\n",
       "    .dataframe tbody tr th {\n",
       "        vertical-align: top;\n",
       "    }\n",
       "\n",
       "    .dataframe thead th {\n",
       "        text-align: right;\n",
       "    }\n",
       "</style>\n",
       "<table border=\"1\" class=\"dataframe\">\n",
       "  <thead>\n",
       "    <tr style=\"text-align: right;\">\n",
       "      <th></th>\n",
       "      <th>gender</th>\n",
       "      <th>age</th>\n",
       "      <th>vis_wuhan</th>\n",
       "      <th>from_wuhan</th>\n",
       "      <th>symptom5</th>\n",
       "      <th>symptom6</th>\n",
       "      <th>diff_sym_hos</th>\n",
       "      <th>country_0</th>\n",
       "      <th>country_1</th>\n",
       "      <th>country_2</th>\n",
       "      <th>country_3</th>\n",
       "      <th>symptom1</th>\n",
       "      <th>symptom2</th>\n",
       "      <th>symptom3</th>\n",
       "      <th>symptom4</th>\n",
       "    </tr>\n",
       "  </thead>\n",
       "  <tbody>\n",
       "    <tr>\n",
       "      <th>783</th>\n",
       "      <td>0</td>\n",
       "      <td>36.0</td>\n",
       "      <td>0</td>\n",
       "      <td>0</td>\n",
       "      <td>3</td>\n",
       "      <td>1</td>\n",
       "      <td>0</td>\n",
       "      <td>1</td>\n",
       "      <td>0</td>\n",
       "      <td>0</td>\n",
       "      <td>0</td>\n",
       "      <td>1</td>\n",
       "      <td>1</td>\n",
       "      <td>1</td>\n",
       "      <td>1</td>\n",
       "    </tr>\n",
       "    <tr>\n",
       "      <th>791</th>\n",
       "      <td>0</td>\n",
       "      <td>49.4</td>\n",
       "      <td>0</td>\n",
       "      <td>0</td>\n",
       "      <td>3</td>\n",
       "      <td>1</td>\n",
       "      <td>0</td>\n",
       "      <td>1</td>\n",
       "      <td>0</td>\n",
       "      <td>0</td>\n",
       "      <td>0</td>\n",
       "      <td>1</td>\n",
       "      <td>1</td>\n",
       "      <td>1</td>\n",
       "      <td>1</td>\n",
       "    </tr>\n",
       "    <tr>\n",
       "      <th>295</th>\n",
       "      <td>1</td>\n",
       "      <td>85.0</td>\n",
       "      <td>0</td>\n",
       "      <td>0</td>\n",
       "      <td>3</td>\n",
       "      <td>1</td>\n",
       "      <td>0</td>\n",
       "      <td>0</td>\n",
       "      <td>1</td>\n",
       "      <td>0</td>\n",
       "      <td>0</td>\n",
       "      <td>1</td>\n",
       "      <td>1</td>\n",
       "      <td>1</td>\n",
       "      <td>1</td>\n",
       "    </tr>\n",
       "    <tr>\n",
       "      <th>365</th>\n",
       "      <td>0</td>\n",
       "      <td>53.0</td>\n",
       "      <td>0</td>\n",
       "      <td>0</td>\n",
       "      <td>3</td>\n",
       "      <td>1</td>\n",
       "      <td>0</td>\n",
       "      <td>1</td>\n",
       "      <td>0</td>\n",
       "      <td>0</td>\n",
       "      <td>0</td>\n",
       "      <td>1</td>\n",
       "      <td>1</td>\n",
       "      <td>1</td>\n",
       "      <td>1</td>\n",
       "    </tr>\n",
       "    <tr>\n",
       "      <th>861</th>\n",
       "      <td>1</td>\n",
       "      <td>49.4</td>\n",
       "      <td>0</td>\n",
       "      <td>0</td>\n",
       "      <td>3</td>\n",
       "      <td>1</td>\n",
       "      <td>0</td>\n",
       "      <td>1</td>\n",
       "      <td>0</td>\n",
       "      <td>0</td>\n",
       "      <td>0</td>\n",
       "      <td>1</td>\n",
       "      <td>1</td>\n",
       "      <td>1</td>\n",
       "      <td>1</td>\n",
       "    </tr>\n",
       "  </tbody>\n",
       "</table>\n",
       "</div>"
      ],
      "text/plain": [
       "     gender   age  vis_wuhan  from_wuhan  symptom5  symptom6  diff_sym_hos  \\\n",
       "783       0  36.0          0           0         3         1             0   \n",
       "791       0  49.4          0           0         3         1             0   \n",
       "295       1  85.0          0           0         3         1             0   \n",
       "365       0  53.0          0           0         3         1             0   \n",
       "861       1  49.4          0           0         3         1             0   \n",
       "\n",
       "     country_0  country_1  country_2  country_3  symptom1  symptom2  symptom3  \\\n",
       "783          1          0          0          0         1         1         1   \n",
       "791          1          0          0          0         1         1         1   \n",
       "295          0          1          0          0         1         1         1   \n",
       "365          1          0          0          0         1         1         1   \n",
       "861          1          0          0          0         1         1         1   \n",
       "\n",
       "     symptom4  \n",
       "783         1  \n",
       "791         1  \n",
       "295         1  \n",
       "365         1  \n",
       "861         1  "
      ]
     },
     "execution_count": 30,
     "metadata": {},
     "output_type": "execute_result"
    }
   ],
   "source": [
    "X_train.head(5)"
   ]
  },
  {
   "cell_type": "markdown",
   "id": "fcc504d5",
   "metadata": {},
   "source": [
    "\n",
    "\n",
    "# Logistic Regression\n",
    "\n"
   ]
  },
  {
   "cell_type": "code",
   "execution_count": 31,
   "id": "7228ac11",
   "metadata": {},
   "outputs": [
    {
     "data": {
      "text/plain": [
       "LogisticRegression(random_state=15, solver='liblinear')"
      ]
     },
     "execution_count": 31,
     "metadata": {},
     "output_type": "execute_result"
    }
   ],
   "source": [
    "logreg = LogisticRegression(solver='liblinear', random_state=15)\n",
    "logreg.fit(X_train, y_train)"
   ]
  },
  {
   "cell_type": "code",
   "execution_count": 32,
   "id": "4703f247",
   "metadata": {
    "scrolled": false
   },
   "outputs": [
    {
     "name": "stdout",
     "output_type": "stream",
     "text": [
      "\n",
      "Evaluation Metrics\n",
      "\n",
      "              precision    recall  f1-score   support\n",
      "\n",
      "           0       0.95      0.99      0.97       151\n",
      "           1       0.88      0.64      0.74        22\n",
      "\n",
      "    accuracy                           0.94       173\n",
      "   macro avg       0.91      0.81      0.85       173\n",
      "weighted avg       0.94      0.94      0.94       173\n",
      "\n"
     ]
    },
    {
     "data": {
      "image/png": "[encoded data removed]",
      "text/plain": [
       "<Figure size 432x288 with 2 Axes>"
      ]
     },
     "metadata": {
      "needs_background": "light"
     },
     "output_type": "display_data"
    },
    {
     "data": {
      "image/png": "[encoded data removed]",
      "text/plain": [
       "<Figure size 432x288 with 1 Axes>"
      ]
     },
     "metadata": {
      "needs_background": "light"
     },
     "output_type": "display_data"
    },
    {
     "name": "stdout",
     "output_type": "stream",
     "text": [
      "roc_auc:  0.9169175195665261\n"
     ]
    }
   ],
   "source": [
    "y_test_predict_lr = logreg.predict(X_test)\n",
    "y_test_predict_lr = pd.DataFrame(y_test_predict_lr)\n",
    "y_test_predict_proba_lr = logreg.predict_proba(X_test)[:, 1]\n",
    "metrics(y_test, y_test_predict_lr, y_test_predict_proba_lr)"
   ]
  },
  {
   "cell_type": "code",
   "execution_count": 33,
   "id": "2a2a8bcd",
   "metadata": {},
   "outputs": [
    {
     "name": "stdout",
     "output_type": "stream",
     "text": [
      "Mean of cross validations scores: 0.6319444444444444 std: 0.15494050032827217\n"
     ]
    }
   ],
   "source": [
    "cvs = cross_val_score(logreg, X_train, y_train, cv = 10, scoring='recall')\n",
    "print('Mean of cross validations scores: {} std: {}'.format(cvs.mean(), cvs.std()))"
   ]
  },
  {
   "cell_type": "markdown",
   "id": "7828724f",
   "metadata": {},
   "source": [
    "### Grid Search Cross validation\n",
    "Grid Search uses provided parameters and form combinations of all parameters to create models and cross validates using the training data set and compares different models using the score.\n",
    "'refit' causes it to train a model on all the training data using the best found parameters"
   ]
  },
  {
   "cell_type": "code",
   "execution_count": 34,
   "id": "cb573797",
   "metadata": {},
   "outputs": [
    {
     "data": {
      "text/plain": [
       "GridSearchCV(cv=10, estimator=LogisticRegression(),\n",
       "             param_grid=[{'C': [0.001, 0.01, 0.1, 1, 10, 100],\n",
       "                          'penalty': ['l1', 'l2'], 'solver': ['liblinear']}],\n",
       "             scoring='recall')"
      ]
     },
     "execution_count": 34,
     "metadata": {},
     "output_type": "execute_result"
    }
   ],
   "source": [
    "parameters = [{ 'penalty':['l1','l2'] , 'C':[0.001, 0.01, 0.1, 1, 10, 100], 'solver':['liblinear'] }]\n",
    "logR = LogisticRegression()\n",
    "gsLR = GridSearchCV(estimator = logR,  \n",
    "                           param_grid = parameters,\n",
    "                           scoring = 'recall',\n",
    "                           cv = 10,\n",
    "                           verbose=0, \n",
    "                          refit=True)\n",
    "\n",
    "gsLR.fit(X_train, y_train)"
   ]
  },
  {
   "cell_type": "code",
   "execution_count": 35,
   "id": "166b22de",
   "metadata": {
    "scrolled": true
   },
   "outputs": [
    {
     "name": "stdout",
     "output_type": "stream",
     "text": [
      "Score from grid search: 0.6986111111111111, beat parameters: {'C': 10, 'penalty': 'l1', 'solver': 'liblinear'}\n"
     ]
    }
   ],
   "source": [
    "print(\"Score from grid search: {}, beat parameters: {}\".format(gsLR.best_score_, gsLR.best_params_))"
   ]
  },
  {
   "cell_type": "code",
   "execution_count": 36,
   "id": "d0207e56",
   "metadata": {
    "scrolled": false
   },
   "outputs": [],
   "source": [
    "y_test_predict_lr = pd.DataFrame(gsLR.predict(X_test))\n",
    "y_test_predict_proba_lr = pd.DataFrame(gsLR.predict_proba(X_test)[:, 1])"
   ]
  },
  {
   "cell_type": "code",
   "execution_count": 37,
   "id": "14a8746b",
   "metadata": {
    "scrolled": false
   },
   "outputs": [
    {
     "name": "stdout",
     "output_type": "stream",
     "text": [
      "\n",
      "Evaluation Metrics\n",
      "\n",
      "              precision    recall  f1-score   support\n",
      "\n",
      "           0       0.95      0.99      0.97       151\n",
      "           1       0.88      0.64      0.74        22\n",
      "\n",
      "    accuracy                           0.94       173\n",
      "   macro avg       0.91      0.81      0.85       173\n",
      "weighted avg       0.94      0.94      0.94       173\n",
      "\n"
     ]
    },
    {
     "data": {
      "image/png": "[encoded data removed]",
      "text/plain": [
       "<Figure size 432x288 with 2 Axes>"
      ]
     },
     "metadata": {
      "needs_background": "light"
     },
     "output_type": "display_data"
    },
    {
     "data": {
      "image/png": "[encoded data removed]",
      "text/plain": [
       "<Figure size 432x288 with 1 Axes>"
      ]
     },
     "metadata": {
      "needs_background": "light"
     },
     "output_type": "display_data"
    },
    {
     "name": "stdout",
     "output_type": "stream",
     "text": [
      "roc_auc:  0.917519566526189\n"
     ]
    }
   ],
   "source": [
    "metrics(y_test, y_test_predict_lr, y_test_predict_proba_lr)"
   ]
  },
  {
   "cell_type": "markdown",
   "id": "f6a48f2c",
   "metadata": {},
   "source": [
    "Since the target variable is imbalanced we can give the positive class more weight since it is the less frequent class and we are more intersted in positive cases"
   ]
  },
  {
   "cell_type": "code",
   "execution_count": 38,
   "id": "a68865cc",
   "metadata": {
    "scrolled": false
   },
   "outputs": [
    {
     "name": "stdout",
     "output_type": "stream",
     "text": [
      "\n",
      "Evaluation Metrics\n",
      "\n",
      "              precision    recall  f1-score   support\n",
      "\n",
      "           0       0.99      0.97      0.98       151\n",
      "           1       0.83      0.91      0.87        22\n",
      "\n",
      "    accuracy                           0.97       173\n",
      "   macro avg       0.91      0.94      0.92       173\n",
      "weighted avg       0.97      0.97      0.97       173\n",
      "\n"
     ]
    },
    {
     "data": {
      "image/png": "[encoded data removed]",
      "text/plain": [
       "<Figure size 432x288 with 2 Axes>"
      ]
     },
     "metadata": {
      "needs_background": "light"
     },
     "output_type": "display_data"
    },
    {
     "data": {
      "image/png": "[encoded data removed]",
      "text/plain": [
       "<Figure size 432x288 with 1 Axes>"
      ]
     },
     "metadata": {
      "needs_background": "light"
     },
     "output_type": "display_data"
    },
    {
     "name": "stdout",
     "output_type": "stream",
     "text": [
      "roc_auc:  0.9202287778446717\n"
     ]
    }
   ],
   "source": [
    "lrWithWeight = LogisticRegression(C=10, penalty=\"l1\", solver=\"liblinear\", class_weight={0:0.35, 1: 0.65})\n",
    "lrWithWeight.fit(X_train, y_train)\n",
    "lr_w = lrWithWeight.predict(X_test)\n",
    "lr_w_proba = lrWithWeight.predict_proba(X_test)[:, 1]\n",
    "metrics(y_test, lr_w, lr_w_proba)"
   ]
  },
  {
   "cell_type": "markdown",
   "id": "25a71d40",
   "metadata": {},
   "source": [
    "As we see recall has significantly improved, f1 score got better and roc_auc is still as good as the previous classifier"
   ]
  },
  {
   "cell_type": "code",
   "execution_count": 39,
   "id": "2f2282c2",
   "metadata": {},
   "outputs": [],
   "source": [
    "sc = scores(y_test, lr_w, lr_w_proba)\n",
    "all_scores.loc[\"lr\"] = [\"Logistic Regression\"] + sc\n",
    "y_predictions[\"Logistic Regression\"] = [lr_w, lr_w_proba]"
   ]
  },
  {
   "cell_type": "markdown",
   "id": "47ba828e",
   "metadata": {},
   "source": [
    "# K Nearest Neighbors Classifier\n",
    "#### Starting with default n_neighbor"
   ]
  },
  {
   "cell_type": "code",
   "execution_count": 40,
   "id": "fbc1b2c6",
   "metadata": {
    "scrolled": false
   },
   "outputs": [
    {
     "name": "stdout",
     "output_type": "stream",
     "text": [
      "\n",
      "Evaluation Metrics\n",
      "\n",
      "              precision    recall  f1-score   support\n",
      "\n",
      "           0       0.97      0.99      0.98       151\n",
      "           1       0.89      0.77      0.83        22\n",
      "\n",
      "    accuracy                           0.96       173\n",
      "   macro avg       0.93      0.88      0.90       173\n",
      "weighted avg       0.96      0.96      0.96       173\n",
      "\n"
     ]
    },
    {
     "data": {
      "image/png": "[encoded data removed]",
      "text/plain": [
       "<Figure size 432x288 with 2 Axes>"
      ]
     },
     "metadata": {
      "needs_background": "light"
     },
     "output_type": "display_data"
    },
    {
     "data": {
      "image/png": "[encoded data removed]",
      "text/plain": [
       "<Figure size 432x288 with 1 Axes>"
      ]
     },
     "metadata": {
      "needs_background": "light"
     },
     "output_type": "display_data"
    },
    {
     "name": "stdout",
     "output_type": "stream",
     "text": [
      "roc_auc:  0.9605659241420831\n"
     ]
    }
   ],
   "source": [
    "knn = KNeighborsClassifier()\n",
    "\n",
    "knn.fit(X_train, y_train)\n",
    "y_test_pred = knn.predict(X_test)\n",
    "y_test_pred = pd.DataFrame(y_test_pred)\n",
    "\n",
    "y_test_pred_prob = knn.predict_proba(X_test)[:, 1]\n",
    "\n",
    "metrics(y_test, y_test_pred, y_test_pred_prob)"
   ]
  },
  {
   "cell_type": "markdown",
   "id": "202790aa",
   "metadata": {},
   "source": [
    "### Finding optimal hyperparameters"
   ]
  },
  {
   "cell_type": "markdown",
   "id": "d802b75b",
   "metadata": {},
   "source": [
    "### Looking for the optimal hyperparameters to maximize the f1-score of the model\n",
    "#### We will compare with cross validation between different values of K neighbors and the distance metrics (Manhattan and Euclidean)"
   ]
  },
  {
   "cell_type": "code",
   "execution_count": 41,
   "id": "09c3ce0d",
   "metadata": {},
   "outputs": [],
   "source": [
    "knn_range = list(range(3, 52, 2))\n",
    "knn_parameters = {\n",
    "    'n_neighbors': knn_range,\n",
    "    'p': [1, 2]\n",
    "}"
   ]
  },
  {
   "cell_type": "code",
   "execution_count": 42,
   "id": "3bf3816f",
   "metadata": {
    "scrolled": false
   },
   "outputs": [
    {
     "data": {
      "text/plain": [
       "GridSearchCV(cv=StratifiedKFold(n_splits=10, random_state=10, shuffle=True),\n",
       "             estimator=KNeighborsClassifier(),\n",
       "             param_grid={'n_neighbors': [3, 5, 7, 9, 11, 13, 15, 17, 19, 21, 23,\n",
       "                                         25, 27, 29, 31, 33, 35, 37, 39, 41, 43,\n",
       "                                         45, 47, 49, 51],\n",
       "                         'p': [1, 2]},\n",
       "             scoring='recall')"
      ]
     },
     "execution_count": 42,
     "metadata": {},
     "output_type": "execute_result"
    }
   ],
   "source": [
    "knn = KNeighborsClassifier()\n",
    "clf_knn = GridSearchCV(knn, knn_parameters, \n",
    "                       cv=StratifiedKFold(10, shuffle=True, random_state=10),\n",
    "                       scoring='recall', refit=True)\n",
    "clf_knn.fit(X_train, y_train)"
   ]
  },
  {
   "cell_type": "code",
   "execution_count": 43,
   "id": "af4c7e53",
   "metadata": {
    "scrolled": true
   },
   "outputs": [
    {
     "name": "stdout",
     "output_type": "stream",
     "text": [
      "Best score: 0.6792 \n",
      "Best Estimator: {'n_neighbors': 3, 'p': 1} \n"
     ]
    }
   ],
   "source": [
    "print(\"Best score: {:.4f} \\nBest Estimator: {} \".format(clf_knn.best_score_, clf_knn.best_params_))"
   ]
  },
  {
   "cell_type": "markdown",
   "id": "33a10504",
   "metadata": {},
   "source": [
    "### Predicitng using optimal hyperparamters"
   ]
  },
  {
   "cell_type": "code",
   "execution_count": 44,
   "id": "07957594",
   "metadata": {},
   "outputs": [
    {
     "name": "stdout",
     "output_type": "stream",
     "text": [
      "\n",
      "Evaluation Metrics\n",
      "\n",
      "              precision    recall  f1-score   support\n",
      "\n",
      "           0       0.97      0.98      0.97       151\n",
      "           1       0.85      0.77      0.81        22\n",
      "\n",
      "    accuracy                           0.95       173\n",
      "   macro avg       0.91      0.88      0.89       173\n",
      "weighted avg       0.95      0.95      0.95       173\n",
      "\n"
     ]
    },
    {
     "data": {
      "image/png": "[encoded data removed]",
      "text/plain": [
       "<Figure size 432x288 with 2 Axes>"
      ]
     },
     "metadata": {
      "needs_background": "light"
     },
     "output_type": "display_data"
    },
    {
     "data": {
      "image/png": "[encoded data removed]",
      "text/plain": [
       "<Figure size 432x288 with 1 Axes>"
      ]
     },
     "metadata": {
      "needs_background": "light"
     },
     "output_type": "display_data"
    },
    {
     "name": "stdout",
     "output_type": "stream",
     "text": [
      "roc_auc:  0.9643287176399759\n"
     ]
    }
   ],
   "source": [
    "y_test_predict_knn_gs = pd.DataFrame(clf_knn.predict(X_test))\n",
    "y_test_predict_proba_knn_gs = pd.DataFrame(clf_knn.predict_proba(X_test)[:, 1])\n",
    "\n",
    "metrics(y_test, y_test_predict_knn_gs, y_test_predict_proba_knn_gs)"
   ]
  },
  {
   "cell_type": "code",
   "execution_count": 45,
   "id": "adccc700",
   "metadata": {},
   "outputs": [],
   "source": [
    "all_scores.loc[\"KNN\"] = [\"K Nearest Neighbor\"] + scores(y_test, y_test_predict_knn_gs, y_test_predict_proba_knn_gs)\n",
    "y_predictions[\"KNN\"] = [y_test_predict_knn_gs, y_test_predict_proba_knn_gs]"
   ]
  },
  {
   "cell_type": "markdown",
   "id": "7debbf51",
   "metadata": {},
   "source": [
    "### Building my own K Nearest Neighbour "
   ]
  },
  {
   "cell_type": "code",
   "execution_count": 46,
   "id": "c0db4202",
   "metadata": {},
   "outputs": [],
   "source": [
    "class my_knn:\n",
    "    \n",
    "    def __init__(self, k=1, p=1):\n",
    "        self.k = k\n",
    "        self.p = p\n",
    "        pass\n",
    "    \n",
    "    def distance(self, x, y, p=1):\n",
    "        dis = np.sum((abs(x - y)) ** p)\n",
    "        dis = dis ** (1/p)\n",
    "        return dis\n",
    "    \n",
    "    def fit(self, X, y):\n",
    "        self.X = X    \n",
    "        self.y = y\n",
    "        \n",
    "        \n",
    "    def predict(self, X_test):\n",
    "        X_predict = np.zeros(len(X_test), dtype=int)\n",
    "        for indx in range(len(X_test)):\n",
    "            k_nearest_indexes = self.nearest_K(X_test.iloc[indx])\n",
    "            X_predict[indx] = Counter(self.y.iloc[k_nearest_indexes]).most_common()[0][0]\n",
    "        return X_predict\n",
    "    \n",
    "    \n",
    "    def nearest_K(self, x):\n",
    "        heap = []\n",
    "        for indx in range(len(self.X)):\n",
    "            dis = self.distance(self.X.iloc[indx], x, self.p)\n",
    "            if(len(heap) < self.k):\n",
    "                heapq.heappush(heap, edge(-1 * dis, indx))\n",
    "            else: \n",
    "                heapq.heappushpop(heap, edge(-1 * dis, indx))\n",
    "        return list(map(lambda x: x.index, heap))\n",
    "            \n",
    "        \n",
    "class edge:\n",
    "    def __init__(self, dis, index):\n",
    "        self.index = index\n",
    "        self.distance = dis\n",
    "    def __lt__(self, other):\n",
    "        return self.distance < other.distance\n",
    "    def __eq__(self, other):\n",
    "        return self.distance == other.distance\n",
    "    def __str__(self):\n",
    "        return str([self.distance, self.index])\n",
    "    def __repr__(self):\n",
    "        return str([self.distance, self.index])"
   ]
  },
  {
   "cell_type": "code",
   "execution_count": 47,
   "id": "ef9091dd",
   "metadata": {
    "scrolled": false
   },
   "outputs": [],
   "source": [
    "myKNN = my_knn(k=3, p=1)\n",
    "myKNN.fit(X_train, y_train)\n",
    "myKNN_predict = myKNN.predict(X_test)"
   ]
  },
  {
   "cell_type": "markdown",
   "id": "a27ab8d3",
   "metadata": {},
   "source": [
    "### Comparing results with sklearn's KNN classifier results"
   ]
  },
  {
   "cell_type": "code",
   "execution_count": 48,
   "id": "be31ac7c",
   "metadata": {},
   "outputs": [
    {
     "name": "stdout",
     "output_type": "stream",
     "text": [
      "0.9884393063583815\n"
     ]
    }
   ],
   "source": [
    "print(accuracy_score(myKNN_predict, y_test_predict_knn_gs))"
   ]
  },
  {
   "cell_type": "markdown",
   "id": "1365c248",
   "metadata": {},
   "source": [
    "# Naive Bayes Classifier"
   ]
  },
  {
   "cell_type": "code",
   "execution_count": 49,
   "id": "2be010c8",
   "metadata": {},
   "outputs": [
    {
     "data": {
      "text/plain": [
       "GaussianNB(var_smoothing=1e-05)"
      ]
     },
     "execution_count": 49,
     "metadata": {},
     "output_type": "execute_result"
    }
   ],
   "source": [
    "NB = GaussianNB(var_smoothing=0.00001)\n",
    "NB.fit(X_train, y_train)"
   ]
  },
  {
   "cell_type": "code",
   "execution_count": 50,
   "id": "b34733b7",
   "metadata": {},
   "outputs": [
    {
     "name": "stdout",
     "output_type": "stream",
     "text": [
      "Mean of cross-validations scores: 0.7361111111111112 std: 0.09460770203292446\n"
     ]
    }
   ],
   "source": [
    "cvs = cross_val_score(NB, X_train, y_train, cv = 10, scoring='recall')\n",
    "print('Mean of cross-validations scores: {} std: {}'.format(cvs.mean(), cvs.std()))"
   ]
  },
  {
   "cell_type": "code",
   "execution_count": 51,
   "id": "1f6f0510",
   "metadata": {},
   "outputs": [
    {
     "name": "stdout",
     "output_type": "stream",
     "text": [
      "\n",
      "Evaluation Metrics\n",
      "\n",
      "              precision    recall  f1-score   support\n",
      "\n",
      "           0       0.96      0.85      0.90       151\n",
      "           1       0.42      0.77      0.55        22\n",
      "\n",
      "    accuracy                           0.84       173\n",
      "   macro avg       0.69      0.81      0.72       173\n",
      "weighted avg       0.89      0.84      0.86       173\n",
      "\n"
     ]
    },
    {
     "data": {
      "image/png": "[encoded data removed]",
      "text/plain": [
       "<Figure size 432x288 with 2 Axes>"
      ]
     },
     "metadata": {
      "needs_background": "light"
     },
     "output_type": "display_data"
    },
    {
     "data": {
      "image/png": "[encoded data removed]",
      "text/plain": [
       "<Figure size 432x288 with 1 Axes>"
      ]
     },
     "metadata": {
      "needs_background": "light"
     },
     "output_type": "display_data"
    },
    {
     "name": "stdout",
     "output_type": "stream",
     "text": [
      "roc_auc:  0.8913305237808548\n"
     ]
    }
   ],
   "source": [
    "y_test_predict_NB = pd.DataFrame(NB.predict(X_test))\n",
    "y_test_predict_proba_NB = pd.DataFrame(NB.predict_proba(X_test)[:, 1])\n",
    "\n",
    "all_scores.loc[\"NB\"] = [\"Naive Bayes\"] + scores(y_test, y_test_predict_NB, y_test_predict_proba_NB)\n",
    "y_predictions[\"Naive Bayes\"] = [y_test_predict_NB, y_test_predict_proba_NB]\n",
    "metrics(y_test, y_test_predict_NB, y_test_predict_proba_NB)"
   ]
  },
  {
   "cell_type": "markdown",
   "id": "9fb6666b",
   "metadata": {},
   "source": [
    "#  Performance of all classifiers"
   ]
  },
  {
   "cell_type": "code",
   "execution_count": 52,
   "id": "c893af8f",
   "metadata": {
    "scrolled": true
   },
   "outputs": [
    {
     "data": {
      "image/png": "[encoded data removed]",
      "text/plain": [
       "<Figure size 432x288 with 1 Axes>"
      ]
     },
     "metadata": {
      "needs_background": "light"
     },
     "output_type": "display_data"
    }
   ],
   "source": [
    "plt.figure()\n",
    "plt.plot([0, 1], [0, 1], 'k--')\n",
    "plt.xlabel(\"False positive rate\")\n",
    "plt.ylabel(\"True positive rate\")\n",
    "plt.title(\"ROC curve\")\n",
    "for k, v in y_predictions.items():\n",
    "    fpr, tpr, thres = roc_curve(y_test, v[1])\n",
    "    plt.plot(fpr, tpr, label=k, linewidth=2)\n",
    "plt.legend()\n",
    "plt.show()"
   ]
  },
  {
   "cell_type": "code",
   "execution_count": 53,
   "id": "2a11ef1d",
   "metadata": {
    "scrolled": true
   },
   "outputs": [
    {
     "data": {
      "text/html": [
       "<div>\n",
       "<style scoped>\n",
       "    .dataframe tbody tr th:only-of-type {\n",
       "        vertical-align: middle;\n",
       "    }\n",
       "\n",
       "    .dataframe tbody tr th {\n",
       "        vertical-align: top;\n",
       "    }\n",
       "\n",
       "    .dataframe thead th {\n",
       "        text-align: right;\n",
       "    }\n",
       "</style>\n",
       "<table border=\"1\" class=\"dataframe\">\n",
       "  <thead>\n",
       "    <tr style=\"text-align: right;\">\n",
       "      <th></th>\n",
       "      <th>Classifier</th>\n",
       "      <th>Precision</th>\n",
       "      <th>Recall</th>\n",
       "      <th>F-Score</th>\n",
       "      <th>ROC_AUC</th>\n",
       "      <th>Accuracy</th>\n",
       "    </tr>\n",
       "  </thead>\n",
       "  <tbody>\n",
       "    <tr>\n",
       "      <th>lr</th>\n",
       "      <td>Logistic Regression</td>\n",
       "      <td>0.833333</td>\n",
       "      <td>0.909091</td>\n",
       "      <td>0.869565</td>\n",
       "      <td>0.920229</td>\n",
       "      <td>0.965318</td>\n",
       "    </tr>\n",
       "    <tr>\n",
       "      <th>KNN</th>\n",
       "      <td>K Nearest Neighbor</td>\n",
       "      <td>0.850000</td>\n",
       "      <td>0.772727</td>\n",
       "      <td>0.809524</td>\n",
       "      <td>0.964329</td>\n",
       "      <td>0.953757</td>\n",
       "    </tr>\n",
       "    <tr>\n",
       "      <th>NB</th>\n",
       "      <td>Naive Bayes</td>\n",
       "      <td>0.425000</td>\n",
       "      <td>0.772727</td>\n",
       "      <td>0.548387</td>\n",
       "      <td>0.891331</td>\n",
       "      <td>0.838150</td>\n",
       "    </tr>\n",
       "  </tbody>\n",
       "</table>\n",
       "</div>"
      ],
      "text/plain": [
       "              Classifier  Precision    Recall   F-Score   ROC_AUC  Accuracy\n",
       "lr   Logistic Regression   0.833333  0.909091  0.869565  0.920229  0.965318\n",
       "KNN   K Nearest Neighbor   0.850000  0.772727  0.809524  0.964329  0.953757\n",
       "NB           Naive Bayes   0.425000  0.772727  0.548387  0.891331  0.838150"
      ]
     },
     "execution_count": 53,
     "metadata": {},
     "output_type": "execute_result"
    }
   ],
   "source": [
    "all_scores"
   ]
  },
  {
   "cell_type": "code",
   "execution_count": 54,
   "id": "90618855",
   "metadata": {},
   "outputs": [
    {
     "data": {
      "text/plain": [
       "<matplotlib.legend.Legend at 0x7fceb6bece80>"
      ]
     },
     "execution_count": 54,
     "metadata": {},
     "output_type": "execute_result"
    },
    {
     "data": {
      "image/png": "[encoded data removed]",
      "text/plain": [
       "<Figure size 432x288 with 1 Axes>"
      ]
     },
     "metadata": {
      "needs_background": "light"
     },
     "output_type": "display_data"
    }
   ],
   "source": [
    "plt.title(\"Comparing Classifiers Evaluation metrics\")\n",
    "for row in range(all_scores.shape[0]):\n",
    "    plt.plot(all_scores.columns[1:], all_scores.iloc[row][1:], label=all_scores.iloc[row][0], marker='o')\n",
    "plt.legend()"
   ]
  },
  {
   "cell_type": "code",
   "execution_count": null,
   "id": "6de6ece5",
   "metadata": {},
   "outputs": [],
   "source": []
  },
  {
   "cell_type": "code",
   "execution_count": null,
   "id": "bbde6bf5",
   "metadata": {},
   "outputs": [],
   "source": []
  }
 ],
 "metadata": {
  "kernelspec": {
   "display_name": "ML",
   "language": "python",
   "name": "ml"
  },
  "language_info": {
   "codemirror_mode": {
    "name": "ipython",
    "version": 3
   },
   "file_extension": ".py",
   "mimetype": "text/x-python",
   "name": "python",
   "nbconvert_exporter": "python",
   "pygments_lexer": "ipython3",
   "version": "3.9.7"
  }
 },
 "nbformat": 4,
 "nbformat_minor": 5
}
